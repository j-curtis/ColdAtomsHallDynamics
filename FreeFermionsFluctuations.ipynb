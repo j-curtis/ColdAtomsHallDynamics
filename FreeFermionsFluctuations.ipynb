{
 "cells": [
  {
   "cell_type": "code",
   "execution_count": 14,
   "id": "cff67bab",
   "metadata": {},
   "outputs": [],
   "source": [
    "import numpy as np\n",
    "from matplotlib import pyplot as plt \n",
    "from matplotlib import cm \n",
    "from matplotlib import colors as mclr\n",
    "from scipy import integrate as intg\n",
    "from scipy import linalg as lnal\n",
    "\n",
    "import pickle\n",
    "\n",
    "plt.rc('figure', dpi=300)\n",
    "plt.rc('font', family = 'Times New Roman')\n",
    "plt.rc('font', size = 14)\n",
    "plt.rc('text', usetex=True)\n",
    "plt.rc('xtick', labelsize=14)\n",
    "plt.rc('ytick', labelsize=14)\n",
    "plt.rc('axes', labelsize=18)\n",
    "plt.rc('lines', linewidth=0.3)\n",
    "plt.rc('lines',marker='.')\n",
    "\n",
    "dataDir = \"../data/\"\n",
    "figDir = \"../figures/\"\n",
    "\n",
    "one = np.eye(2,dtype=complex)\n",
    "tau1 = np.array([[0.j,1.],[1.,0.j]],dtype=complex)\n",
    "tau2 = np.array([[0.,-1.j],[1.j,0.]],dtype=complex)\n",
    "tau3 = -1.j*tau1@tau2\n"
   ]
  },
  {
   "cell_type": "code",
   "execution_count": 15,
   "id": "e5878234",
   "metadata": {},
   "outputs": [],
   "source": [
    "def H(p,mu,tperp,tpar,B):\n",
    "    h1 =  -mu*one\n",
    "    h2 = -tperp*tau1\n",
    "    h3 = -2.*tpar*lnal.cosm(p*one - 0.5*B*tau3)\n",
    "\n",
    "    return h1+h2+h3\n",
    "\n",
    "def nel(h,t):\n",
    "    return np.linalg.inv(np.exp(h/t)+one)\n",
    "\n",
    "def nho(h,t):\n",
    "    return np.linalg.inv(np.exp(-h/t)+one)\n",
    "\n",
    "def integrand(p,q,t,mu,tperp,tpar,B):\n",
    "    h1 = H(p-q/2,mu,tperp,tpar,B)\n",
    "    h2 = H(p+q/2,mu,tperp,tpar,B)\n",
    "    \n",
    "    n1 = nel(h1,t)\n",
    "    n2 = nho(h2,t)\n",
    "    \n",
    "    return np.trace(n1@tau2@n2@tau2)\n",
    "\n",
    "def PiHall(q,t,mu,tperp,tpar,B):\n",
    "    \n",
    "    return intg.quad(integrand,-np.pi,np.pi,args=(q,t,mu,tperp,tpar,B))[0]"
   ]
  },
  {
   "cell_type": "code",
   "execution_count": null,
   "id": "36e233cf",
   "metadata": {},
   "outputs": [],
   "source": [
    "### Interfacing w/multithreading\n",
    "def PiHallFile(q,t,mu,tperp,tpar,B,save_filename):\n",
    "    result = PiHall(q,t,mu,tperp,tpar,B)\n",
    "\n",
    "    \n",
    "    with open(save_filename,'wb') as f:\n",
    "        \n",
    "        pickle.dump(result,f)\n",
    "        \n",
    "    "
   ]
  },
  {
   "cell_type": "code",
   "execution_count": null,
   "id": "2ed198d0",
   "metadata": {
    "scrolled": true
   },
   "outputs": [
    {
     "name": "stderr",
     "output_type": "stream",
     "text": [
      "/usr/lib/python3/dist-packages/scipy/integrate/_quadpack_py.py:463: ComplexWarning: Casting complex values to real discards the imaginary part\n",
      "  return _quadpack._qagse(func,a,b,args,full_output,epsabs,epsrel,limit)\n",
      "/tmp/ipykernel_77724/4161610290.py:25: IntegrationWarning: The maximum number of subdivisions (50) has been achieved.\n",
      "  If increasing the limit yields no improvement it is advised to analyze \n",
      "  the integrand in order to determine the difficulties.  If the position of a \n",
      "  local difficulty can be determined (singularity, discontinuity) one will \n",
      "  probably gain from splitting up the interval and calling the integrator \n",
      "  on the subranges.  Perhaps a special-purpose integrator should be used.\n",
      "  return intg.quad(integrand,-np.pi,np.pi,args=(q,t,mu,tperp,tpar,B))[0]\n",
      "/tmp/ipykernel_77724/4161610290.py:25: IntegrationWarning: The integral is probably divergent, or slowly convergent.\n",
      "  return intg.quad(integrand,-np.pi,np.pi,args=(q,t,mu,tperp,tpar,B))[0]\n",
      "/tmp/ipykernel_77724/4161610290.py:25: IntegrationWarning: The algorithm does not converge.  Roundoff error is detected\n",
      "  in the extrapolation table.  It is assumed that the requested tolerance\n",
      "  cannot be achieved, and that the returned result (if full_output = 1) is \n",
      "  the best which can be obtained.\n",
      "  return intg.quad(integrand,-np.pi,np.pi,args=(q,t,mu,tperp,tpar,B))[0]\n"
     ]
    }
   ],
   "source": [
    "tpar = 1.0\n",
    "tperp = 0.2\n",
    "temp = 0.05\n",
    "\n",
    "nummus = 9\n",
    "mus= np.linspace(-2.25*tpar,2.25*tpar,nummus)\n",
    "\n",
    "numBs = 11\n",
    "Bs = np.linspace(0.,2.*np.pi,numBs)\n",
    "\n",
    "\n",
    "numqs = 30\n",
    "qs = np.linspace(-np.pi,np.pi,numqs)\n",
    "\n",
    "Piqs = np.zeros((nummus,numBs,numqs),dtype=complex)\n",
    "Eqs = np.zeros((nummus,numBs,numqs,2))\n",
    "\n",
    "for i in range(nummus):\n",
    "    mu = mus[i]\n",
    "    \n",
    "    for j in range(numBs):\n",
    "        B = Bs[j]\n",
    "        \n",
    "        for k in range(numqs):\n",
    "            q = qs[k]\n",
    "            Piqs[i,j,k] = PiHall(q,temp,mu,tperp,tpar,B)\n",
    "            Eqs[i,j,k,:] = np.linalg.eigh(H(q,mu,tperp,tpar,B))[0]"
   ]
  },
  {
   "cell_type": "code",
   "execution_count": null,
   "id": "c434eff1",
   "metadata": {
    "scrolled": false
   },
   "outputs": [],
   "source": [
    "saveFig = True\n",
    "\n",
    "B_plot_list = [0,2,4,6,8,10]\n",
    "\n",
    "cs = cm.coolwarm(np.linspace(0.,1.,len(B_plot_list)))\n",
    "\n",
    "i = 0\n",
    "for j in B_plot_list:\n",
    "    plt.plot(qs,Eqs[0,j,:,0],c=cs[i])\n",
    "    plt.plot(qs,Eqs[0,j,:,1],c=cs[i])\n",
    "    i+=1\n",
    "    \n",
    "    plt.title(r'$B/(2\\pi)= $ '+\"{b:0.2f}\".format(b=Bs[j]/(2.*np.pi) ) )\n",
    "    \n",
    "    plt.xlabel(r'$p$')\n",
    "    plt.xticks([-np.pi,-np.pi/2.,0.,np.pi/2, np.pi],[r'$-\\pi$',r'$-\\pi/2$',r'$0$',r'$\\pi/2$',r'$\\pi$'])\n",
    "    plt.ylabel(r'$E_p/J_\\parallel$')\n",
    "\n",
    "    if saveFig:\n",
    "        plt.savefig(figDir+\"spectrum_B={b:0.2f}.pdf\".format(b=Bs[j]),bbox_inches='tight')\n",
    "    plt.show()\n",
    "    \n",
    "saveFig = False"
   ]
  },
  {
   "cell_type": "code",
   "execution_count": null,
   "id": "45629435",
   "metadata": {
    "scrolled": false
   },
   "outputs": [],
   "source": [
    "saveFig = False\n",
    "\n",
    "cs = cm.coolwarm(np.linspace(0.,1.,numBs))\n",
    "\n",
    "for i in range(nummus):\n",
    "    for j in range(numBs):\n",
    "        plt.plot(qs,np.real(Piqs[i,j,:]),c=cs[j])\n",
    "    \n",
    "    plt.title(r'$\\mu/J_\\parallel = $'+\"{m:0.2f}\".format(m=mus[i]))\n",
    "    plt.xlabel(r'$q$')\n",
    "    plt.xticks([-np.pi,-np.pi/2.,0.,np.pi/2, np.pi],[r'$-\\pi$',r'$-\\pi/2$',r'$0$',r'$\\pi/2$',r'$\\pi$'])\n",
    "    plt.ylabel(r'$\\Pi^H(q)$')\n",
    "    \n",
    "    if saveFig:\n",
    "        plt.savefig(figDir+\"spectrum_B={b:0.2f}.pdf\".format(b=Bs[j]),bbox_inches='tight')\n",
    "    plt.show()\n",
    "    \n",
    "saveFig = False"
   ]
  },
  {
   "cell_type": "code",
   "execution_count": null,
   "id": "65824cce",
   "metadata": {},
   "outputs": [],
   "source": []
  },
  {
   "cell_type": "code",
   "execution_count": null,
   "id": "8c04ceac",
   "metadata": {},
   "outputs": [],
   "source": []
  }
 ],
 "metadata": {
  "kernelspec": {
   "display_name": "Python 3 (ipykernel)",
   "language": "python",
   "name": "python3"
  },
  "language_info": {
   "codemirror_mode": {
    "name": "ipython",
    "version": 3
   },
   "file_extension": ".py",
   "mimetype": "text/x-python",
   "name": "python",
   "nbconvert_exporter": "python",
   "pygments_lexer": "ipython3",
   "version": "3.10.12"
  }
 },
 "nbformat": 4,
 "nbformat_minor": 5
}
