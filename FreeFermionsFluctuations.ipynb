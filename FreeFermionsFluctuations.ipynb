{
 "cells": [
  {
   "cell_type": "code",
   "execution_count": 1,
   "id": "cff67bab",
   "metadata": {},
   "outputs": [],
   "source": [
    "import numpy as np\n",
    "from matplotlib import pyplot as plt\n",
    "import time\n",
    "from scipy import integrate as intg\n",
    "\n",
    "one = np.eye(2,dtype=complex)\n",
    "tau1 = np.array([ [0.j,1.],[1.,0.j]],dtype=complex)\n",
    "tau2 = np.array([[0.,-1.j],[1.j,0.]],dtype=complex)\n",
    "tau3 = -1.j*tau1@tau2"
   ]
  },
  {
   "cell_type": "code",
   "execution_count": 2,
   "id": "e5878234",
   "metadata": {},
   "outputs": [],
   "source": [
    "def H(p,mu,tperp,tpar,B):\n",
    "    return -mu*one - tperp*tau1 - 2.*tpar*np.cos( p - 0.5*B*tau3 )\n",
    "\n",
    "def nel(h,t):\n",
    "    return np.linalg.inv(np.exp(h/t)+one)\n",
    "\n",
    "def nho(h,t):\n",
    "    return np.linalg.inv(np.exp(-h/t)+one)\n",
    "\n",
    "def integrand(p,q,t,mu,tperp,tpar,B):\n",
    "    h1 = H(p-q/2,mu,tperp,tpar,B)\n",
    "    h2 = H(p+q/2,mu,tperp,tpar,B)\n",
    "    \n",
    "    n1 = nel(h1,t)\n",
    "    n2 = nho(h2,t)\n",
    "    \n",
    "    return np.trace(n1@tau2@n2@tau2)\n",
    "\n",
    "def PiHall(q,t,mu,tperp,tpar,B):\n",
    "    \n",
    "    \n",
    "    return intg.quad(integrand,)"
   ]
  },
  {
   "cell_type": "code",
   "execution_count": 3,
   "id": "2ed198d0",
   "metadata": {},
   "outputs": [],
   "source": [
    "tperp = 0.3\n",
    "tpar = 1.\n",
    "mu = 0.4\n",
    "B = 0.5\n",
    "\n",
    "nump = 100\n",
    "p = np.linspace(-np.pi,np.pi,nump)\n",
    "Es = np.zeros((2,nump))\n",
    "\n",
    "for i in range(nump):\n",
    "    h = H(p[i],mu,tperp,tpar,B)\n",
    "    eigs = np.linalg.eigh(h)[0]\n",
    "    Es[:,i] = np.real(eigs)\n",
    "    \n"
   ]
  },
  {
   "cell_type": "code",
   "execution_count": 4,
   "id": "45629435",
   "metadata": {},
   "outputs": [
    {
     "data": {
      "image/png": "[encoded data removed]",
      "text/plain": [
       "<Figure size 432x288 with 1 Axes>"
      ]
     },
     "metadata": {
      "needs_background": "light"
     },
     "output_type": "display_data"
    }
   ],
   "source": [
    "plt.plot(p,Es[0,:],color='red')\n",
    "plt.plot(p,Es[1,:],color='blue')\n",
    "plt.show()"
   ]
  },
  {
   "cell_type": "code",
   "execution_count": null,
   "id": "29632f7e",
   "metadata": {},
   "outputs": [],
   "source": []
  }
 ],
 "metadata": {
  "kernelspec": {
   "display_name": "Python 3 (ipykernel)",
   "language": "python",
   "name": "python3"
  },
  "language_info": {
   "codemirror_mode": {
    "name": "ipython",
    "version": 3
   },
   "file_extension": ".py",
   "mimetype": "text/x-python",
   "name": "python",
   "nbconvert_exporter": "python",
   "pygments_lexer": "ipython3",
   "version": "3.10.12"
  }
 },
 "nbformat": 4,
 "nbformat_minor": 5
}
